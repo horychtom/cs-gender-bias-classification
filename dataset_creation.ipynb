{
 "cells": [
  {
   "cell_type": "code",
   "execution_count": 1,
   "id": "dd8769f5-8f65-44a1-94a4-9447b21b29b4",
   "metadata": {},
   "outputs": [],
   "source": [
    "import torch\n",
    "import torch.nn.functional as F\n",
    "\n",
    "from datasets import load_dataset,concatenate_datasets,load_from_disk, Dataset, Value, ClassLabel,features\n",
    "\n",
    "import numpy as np\n",
    "import matplotlib.pyplot as plt\n",
    "\n",
    "from tqdm.auto import tqdm, trange\n",
    "import csv\n",
    "\n",
    "\n",
    "NEUTRAL = 0\n",
    "FEMALE = 1\n",
    "MALE = 2\n",
    "\n",
    "device = torch.device(\"cuda\") if torch.cuda.is_available() else torch.device(\"cpu\")\n",
    "\n",
    "def get_gender_ratio(train_set):\n",
    "    gender_rat = []\n",
    "    for i in range (0,3):\n",
    "        gender_rat.append(train_set.filter(lambda example: example['labels'] == i).num_rows)\n",
    "    gender_rat = list(map(lambda x: x/len(train_set),gender_rat))\n",
    "    return gender_rat"
   ]
  },
  {
   "cell_type": "code",
   "execution_count": null,
   "id": "6064020b-1b09-4504-8aa1-8f19632e495a",
   "metadata": {},
   "outputs": [],
   "source": [
    "funpedia = load_dataset(\"md_gender_bias\", \"funpedia\")\n",
    "wizard = load_dataset(\"md_gender_bias\", \"wizard\")\n",
    "image_chat = load_dataset(\"md_gender_bias\",\"image_chat\")\n",
    "yelp = load_dataset(\"md_gender_bias\",\"yelp_inferred\")\n",
    "convai = load_dataset(\"md_gender_bias\",\"convai2_inferred\")\n",
    "open_subtitles = load_dataset(\"md_gender_bias\",\"opensubtitles_inferred\")\n",
    "light = load_dataset(\"md_gender_bias\",\"light_inferred\")"
   ]
  },
  {
   "cell_type": "markdown",
   "id": "5eba5ef2-8a07-4dab-8fd9-be0101470f1d",
   "metadata": {},
   "source": [
    "### Let us process every dataset into clean format text,label - [neutral,female,male]"
   ]
  },
  {
   "cell_type": "markdown",
   "id": "1b754a80-fd74-40b6-8752-3901e855ca77",
   "metadata": {},
   "source": [
    "with features as follows:"
   ]
  },
  {
   "cell_type": "markdown",
   "id": "8440541c-1c87-4d24-ac31-5c76d7599731",
   "metadata": {},
   "source": [
    "## Funpedia"
   ]
  },
  {
   "cell_type": "code",
   "execution_count": 3,
   "id": "7fc67ec1-1a9c-44de-95ec-44117755e5d0",
   "metadata": {},
   "outputs": [],
   "source": [
    "funpedia = funpedia.remove_columns(['persona','title']).rename_column('gender', 'labels')\n",
    "funpedia_train = funpedia['train']\n",
    "funpedia_val = funpedia['validation']\n",
    "funpedia_test = funpedia['test']"
   ]
  },
  {
   "cell_type": "markdown",
   "id": "a0b2322f-05f6-475e-999d-47f16cfd2f6a",
   "metadata": {},
   "source": [
    "let features be same as in funpedia "
   ]
  },
  {
   "cell_type": "code",
   "execution_count": null,
   "id": "805b30c8-2226-4355-b5b5-3f76c4653d7a",
   "metadata": {},
   "outputs": [],
   "source": [
    "features = funpedia['train'].features"
   ]
  },
  {
   "cell_type": "markdown",
   "id": "adf1eef4-3100-4592-aa37-b23937729fb5",
   "metadata": {},
   "source": [
    "## Wizard"
   ]
  },
  {
   "cell_type": "code",
   "execution_count": null,
   "id": "429e3d2a-ef5c-4ed2-aed5-f81cc1c6c248",
   "metadata": {},
   "outputs": [],
   "source": [
    "wizard = wizard.remove_columns(['chosen_topic']).rename_column('gender', 'labels')\n",
    "wizard_train = wizard['train']\n",
    "wizard_val = wizard['validation']\n",
    "wizard_test = wizard['test']"
   ]
  },
  {
   "cell_type": "code",
   "execution_count": null,
   "id": "c6f43c96-92e7-40b4-807f-495f7a87ebd9",
   "metadata": {},
   "outputs": [],
   "source": [
    "get_gender_ratio(funpedia_train)"
   ]
  },
  {
   "cell_type": "markdown",
   "id": "13112de8-257f-4e06-9167-77b9e3538ad5",
   "metadata": {},
   "source": [
    "## Image chat"
   ]
  },
  {
   "cell_type": "markdown",
   "id": "4736f354-910d-4538-83b2-d4b101325766",
   "metadata": {},
   "source": [
    "Here we will convert information of male,female as boolean value to our format [neutral,female,male]"
   ]
  },
  {
   "cell_type": "code",
   "execution_count": null,
   "id": "02eb6409-1d71-4855-87b7-9196467ee653",
   "metadata": {},
   "outputs": [],
   "source": [
    "def clean_text(text):\n",
    "    return text.replace('<start> a ','').replace('<start> an ','').replace('<start> ','').replace(' <eos>','')\n",
    "\n",
    "#method for creating new dataset out of existing which is labeled in a way that doesn't fit our other datasets\n",
    "#mapping male=False female=False -> 0\n",
    "#        male=False female=True  -> 1\n",
    "#        male=True  female=False -> 2\n",
    "def clean_image_chat_data(split:str):\n",
    "    img_male = image_chat[split].filter(lambda item: item['male'] == True and item['female'] == False)\n",
    "    img_female = image_chat[split].filter(lambda item: item['male'] == False and item['female'] == True)\n",
    "    img_neutral = image_chat[split].filter(lambda item: item['male'] == False and item['female'] == False)\n",
    "    \n",
    "    labels = [MALE]*img_male.num_rows + [FEMALE]*img_female.num_rows + [NEUTRAL]*img_neutral.num_rows\n",
    "    texts = [clean_text(t) for t in img_male['caption']] + [clean_text(t) for t in img_female['caption']] + [clean_text(t) for t in img_neutral['caption']]\n",
    "\n",
    "    dictionary = {'text': texts, 'labels' : labels}\n",
    "    final = Dataset.from_dict(dictionary,features=features)\n",
    "    \n",
    "    #valid split is too large, let it be smaller for faster processing\n",
    "    if split == 'validation':\n",
    "        final = final.shuffle()\n",
    "        final = final.shard(num_shards=150, index=0)\n",
    "    \n",
    "    return final.shuffle()"
   ]
  },
  {
   "cell_type": "code",
   "execution_count": null,
   "id": "462941cf-7d51-4404-876a-11064f8ff755",
   "metadata": {},
   "outputs": [],
   "source": [
    "image_train = clean_image_chat_data('train')\n",
    "image_val = clean_image_chat_data('validation')\n",
    "image_test = clean_image_chat_data('test')"
   ]
  },
  {
   "cell_type": "code",
   "execution_count": null,
   "id": "c8294d61-c7e0-41c2-b3d1-2bdd3c4b66d4",
   "metadata": {},
   "outputs": [],
   "source": [
    "get_gender_ratio(image_train)"
   ]
  },
  {
   "cell_type": "markdown",
   "id": "e3747b59-412b-41eb-90aa-43be8e421150",
   "metadata": {},
   "source": [
    "## Yelp"
   ]
  },
  {
   "cell_type": "code",
   "execution_count": null,
   "id": "e5806c82-6f56-4e51-892e-f2e6bb41f002",
   "metadata": {},
   "outputs": [],
   "source": [
    "def clean_yelp_data(split:str,certainity:int):\n",
    "    \n",
    "    data = yelp[split].filter(lambda x : x['binary_score'] > certainity)\n",
    "    yelp_male = data.filter(lambda item: item['binary_label'] == 1 and item['binary_score'] > certainity+0.15)\n",
    "    yelp_female = data.filter(lambda item: item['binary_label'] == 0)\n",
    "    \n",
    "    male_texts = list(filter(lambda x : '<UNK>' not in x ,yelp_male['text']))\n",
    "    female_texts = list(filter(lambda x : '<UNK>' not in x ,yelp_female['text']))\n",
    "    \n",
    "    #labeling 0 -> 1, 1->2\n",
    "    labels = [MALE]*len(male_texts) + [FEMALE]*len(female_texts)\n",
    "    print(len(male_texts))\n",
    "    print(len(female_texts))\n",
    "    \n",
    "    dictionary = {'text': male_texts+female_texts, 'labels' : labels}\n",
    "    final = Dataset.from_dict(dictionary,features=features)\n",
    "    \n",
    "    #valid split is too large, let it be smaller for faster processing\n",
    "    if split == 'test':\n",
    "        final = final.shuffle()\n",
    "        final = final.shard(num_shards=150, index=0)\n",
    "    \n",
    "    return final.shuffle()"
   ]
  },
  {
   "cell_type": "code",
   "execution_count": null,
   "id": "442c0d8d-85b3-4c03-97e5-897adea3eeca",
   "metadata": {},
   "outputs": [],
   "source": [
    "yelp_train = clean_yelp_data('train',0.7)\n",
    "yelp_val = clean_yelp_data('validation',0.7)\n",
    "yelp_test = clean_yelp_data('test',0.7)"
   ]
  },
  {
   "cell_type": "code",
   "execution_count": null,
   "id": "94361ed6-dfde-42ad-a076-d952b20a8ab0",
   "metadata": {},
   "outputs": [],
   "source": [
    "get_gender_ratio(yelp_train)"
   ]
  },
  {
   "cell_type": "markdown",
   "id": "c9807d32-1e7b-491a-996e-0fe0b0f7a676",
   "metadata": {},
   "source": [
    "## Convai"
   ]
  },
  {
   "cell_type": "code",
   "execution_count": null,
   "id": "5cae6b9d-65b1-4eff-9dce-c00ca9d8580a",
   "metadata": {},
   "outputs": [],
   "source": [
    "def clean_convai_data(split:str,certainity):\n",
    "    data = convai[split]\n",
    "    \n",
    "    male = data.filter(lambda item: item['ternary_label'] == 1 and item['ternary_score'] > certainity)\n",
    "    female = data.filter(lambda item: item['ternary_label'] == 0 and item['ternary_score'] > certainity)\n",
    "    neutral = data.filter(lambda item: item['ternary_label'] == 2 and item['ternary_score'] > certainity-0.2)\n",
    "    \n",
    "    texts = male['text'] + female['text'] + neutral['text']\n",
    "    labels = [MALE]*male.num_rows + [FEMALE]*female.num_rows + [NEUTRAL]*neutral.num_rows\n",
    "        \n",
    "    dictionary = {'text': texts, 'labels' : labels}\n",
    "    final = Dataset.from_dict(dictionary,features=features)\n",
    "    \n",
    "    return final.shuffle()"
   ]
  },
  {
   "cell_type": "code",
   "execution_count": null,
   "id": "f54992a4-615d-4ad4-b4e7-6e31ab827cc6",
   "metadata": {},
   "outputs": [],
   "source": [
    "convai_train = clean_convai_data('train',0.7)\n",
    "convai_val = clean_convai_data('validation',0.7)\n",
    "convai_test = clean_convai_data('test',0.7)"
   ]
  },
  {
   "cell_type": "code",
   "execution_count": null,
   "id": "84b715f2-fa06-4320-b7cb-44bbc30b6128",
   "metadata": {},
   "outputs": [],
   "source": [
    "get_gender_ratio(convai_train)"
   ]
  },
  {
   "cell_type": "markdown",
   "id": "0efad418-2c11-42b1-b6d9-1c8c897ee2b2",
   "metadata": {},
   "source": [
    "## Opensubtitles"
   ]
  },
  {
   "cell_type": "code",
   "execution_count": null,
   "id": "28396cc6-8398-46d5-a79e-79638721532e",
   "metadata": {},
   "outputs": [],
   "source": [
    "def clean_subtitles_data(split:str,certainity:int):\n",
    "    data = open_subtitles[split]\n",
    "        \n",
    "    male = data.filter(lambda item: item['ternary_label'] == 1 and item['ternary_score'] > (certainity+0.05))\n",
    "    female = data.filter(lambda item: item['ternary_label'] == 0 and item['ternary_score'] > certainity)\n",
    "    neutral = data.filter(lambda item: item['ternary_label'] == 2 and item['ternary_score'] > certainity - 0.2)\n",
    "    \n",
    "    texts = male['text'] + female['text'] + neutral['text']\n",
    "    labels = [MALE]*male.num_rows + [FEMALE]*female.num_rows + [NEUTRAL]*neutral.num_rows\n",
    "        \n",
    "    dictionary = {'text': texts, 'labels' : labels}\n",
    "    final = Dataset.from_dict(dictionary,features=features)\n",
    "    \n",
    "    return final.shuffle()"
   ]
  },
  {
   "cell_type": "code",
   "execution_count": null,
   "id": "7c5b24be-2b1d-48ac-9c7d-bf1ea662a20d",
   "metadata": {},
   "outputs": [],
   "source": [
    "open_subs_train = clean_subtitles_data('train',0.7)\n",
    "open_subs_val = clean_subtitles_data('validation',0.7)\n",
    "open_subs_test = clean_subtitles_data('test',0.7)"
   ]
  },
  {
   "cell_type": "code",
   "execution_count": null,
   "id": "39f83fda-0e57-4aaa-8ce9-139192dbb845",
   "metadata": {},
   "outputs": [],
   "source": [
    "get_gender_ratio(open_subs_train)"
   ]
  },
  {
   "cell_type": "markdown",
   "id": "e2f6f87d-e9eb-4a7e-9a75-98cb3f9361a0",
   "metadata": {},
   "source": [
    "## Light"
   ]
  },
  {
   "cell_type": "code",
   "execution_count": null,
   "id": "1b029236-c725-47a0-8986-11cfdbb2f67d",
   "metadata": {},
   "outputs": [],
   "source": [
    "light['train'].features"
   ]
  },
  {
   "cell_type": "code",
   "execution_count": null,
   "id": "52d623d9-ce1a-4a70-a2ac-b1e6f5cd104b",
   "metadata": {},
   "outputs": [],
   "source": [
    "def clean_light_data(split:str,level:str,certainity:int):\n",
    "    data = light[split]\n",
    "        \n",
    "    male = data.filter(lambda item: item['ternary_label'] == 1 and item['ternary_score'] > (certainity+0.05))\n",
    "    female = data.filter(lambda item: item['ternary_label'] == 0 and item['ternary_score'] > certainity)\n",
    "    neutral = data.filter(lambda item: item['ternary_label'] == 2 and item['ternary_score'] > certainity)\n",
    "    \n",
    "    texts = male['text'] + female['text'] + neutral['text']\n",
    "    labels = [MALE]*male.num_rows + [FEMALE]*female.num_rows + [NEUTRAL]*neutral.num_rows\n",
    "        \n",
    "    dictionary = {'text': texts, 'labels' : labels}\n",
    "    final = Dataset.from_dict(dictionary,features=features)\n",
    "    \n",
    "    return final.shuffle()"
   ]
  },
  {
   "cell_type": "code",
   "execution_count": null,
   "id": "2e9bc738-a857-4c36-9ed6-0d699c993bb7",
   "metadata": {},
   "outputs": [],
   "source": [
    "light_train = clean_light_data('train','ternary',0.7)\n",
    "light_val = clean_light_data('validation','ternary',0.7)\n",
    "light_test = clean_light_data('test','ternary',0.7)"
   ]
  },
  {
   "cell_type": "code",
   "execution_count": null,
   "id": "a58172ae-7243-4f4d-a405-4f6c9cc3588d",
   "metadata": {},
   "outputs": [],
   "source": [
    "get_gender_ratio(light_train)"
   ]
  },
  {
   "cell_type": "code",
   "execution_count": null,
   "id": "eadef33f-ea12-48d4-96b7-4b1fa58828f0",
   "metadata": {},
   "outputs": [],
   "source": [
    "train_data = concatenate_datasets([funpedia_train,wizard_train,yelp_train,convai_train,open_subs_train,image_train,light_train]).shuffle()\n",
    "valid_data = concatenate_datasets([funpedia_val,wizard_val,yelp_val,convai_val,open_subs_val,image_val,light_val]).shuffle()\n",
    "test_data = concatenate_datasets([funpedia_test,wizard_test,yelp_test,convai_test,open_subs_test,image_test,light_test]).shuffle()"
   ]
  },
  {
   "cell_type": "code",
   "execution_count": 204,
   "id": "068a107c-3aea-4b1d-bf4f-634c23e3a388",
   "metadata": {},
   "outputs": [
    {
     "data": {
      "text/plain": [
       "Dataset({\n",
       "    features: ['text', 'labels'],\n",
       "    num_rows: 457483\n",
       "})"
      ]
     },
     "execution_count": 204,
     "metadata": {},
     "output_type": "execute_result"
    }
   ],
   "source": [
    "train_data"
   ]
  },
  {
   "cell_type": "code",
   "execution_count": 206,
   "id": "d47259b2-c67b-4678-a0e4-2f7f968e25bc",
   "metadata": {},
   "outputs": [
    {
     "data": {
      "text/plain": [
       "1814904"
      ]
     },
     "execution_count": 206,
     "metadata": {},
     "output_type": "execute_result"
    }
   ],
   "source": [
    "train_data.to_csv('./train.csv')\n",
    "valid_data.to_csv('./valid.csv')\n",
    "test_data.to_csv('./test.csv')"
   ]
  },
  {
   "cell_type": "code",
   "execution_count": null,
   "id": "5e183614-004c-43fe-97bf-11cd81529950",
   "metadata": {},
   "outputs": [],
   "source": [
    "train_data[0]"
   ]
  },
  {
   "cell_type": "code",
   "execution_count": null,
   "id": "878b8c0e-41a6-4f96-b5af-ef2c5693daed",
   "metadata": {},
   "outputs": [],
   "source": [
    "data = load_dataset('csv',data_files='./valid.csv')"
   ]
  }
 ],
 "metadata": {
  "kernelspec": {
   "display_name": "Python 3 (ipykernel)",
   "language": "python",
   "name": "python3"
  },
  "language_info": {
   "codemirror_mode": {
    "name": "ipython",
    "version": 3
   },
   "file_extension": ".py",
   "mimetype": "text/x-python",
   "name": "python",
   "nbconvert_exporter": "python",
   "pygments_lexer": "ipython3",
   "version": "3.8.6"
  }
 },
 "nbformat": 4,
 "nbformat_minor": 5
}
